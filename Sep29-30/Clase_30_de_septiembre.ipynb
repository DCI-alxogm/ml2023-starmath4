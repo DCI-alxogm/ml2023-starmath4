{
  "nbformat": 4,
  "nbformat_minor": 0,
  "metadata": {
    "colab": {
      "provenance": [],
      "authorship_tag": "ABX9TyNzvv/bjGZrEcmVfISeQhoV",
      "include_colab_link": true
    },
    "kernelspec": {
      "name": "python3",
      "display_name": "Python 3"
    },
    "language_info": {
      "name": "python"
    }
  },
  "cells": [
    {
      "cell_type": "markdown",
      "metadata": {
        "id": "view-in-github",
        "colab_type": "text"
      },
      "source": [
        "<a href=\"https://colab.research.google.com/github/DCI-alxogm/ml2023-starmath4/blob/main/Sep29-30/Clase_30_de_septiembre.ipynb\" target=\"_parent\"><img src=\"https://colab.research.google.com/assets/colab-badge.svg\" alt=\"Open In Colab\"/></a>"
      ]
    },
    {
      "cell_type": "code",
      "source": [
        "import numpy as np\n",
        "import random\n",
        "\n",
        "import numpy as np\n",
        "import random\n",
        "\n",
        "def modelo_polinomio(punto,coefs): #Evaluar el polinomio en un punto\n",
        "  sum=0\n",
        "  for i in range (0,len(coefs)):\n",
        "    sum+=coefs[i]*((punto)**i )\n",
        "  return sum\n",
        "\n",
        "def log_likelihood(x,y,coefs,sig):\n",
        "  sum=0\n",
        "  for i in range(len(x)):\n",
        "    sum+=(((y[i]-modelo_polinomio(x[i],coefs))**2)-(2*sig))\n",
        "  return sum\n",
        "\n",
        "def log_prior(x,prop,int_w0,int_w1): #La propuesta debe caer en ambos prior\n",
        "  if (int_w0[0]<prop[0] and prop[0]<int_w0[1]) and (int_w1[0]<prop[1] and prop[1]<int_w1[1]):\n",
        "    return np.log(1)\n",
        "  else:\n",
        "    return np.log(0)\n",
        "\n",
        "def log_post(x,y,coefs,sig,int_w0,int_w1):\n",
        "  return log_likelihood(x,y,coefs,sig)+log_prior(x,coefs,int_w0,int_w1)"
      ],
      "metadata": {
        "id": "rNrhaxyozDmp"
      },
      "execution_count": 69,
      "outputs": []
    },
    {
      "cell_type": "code",
      "execution_count": 82,
      "metadata": {
        "colab": {
          "base_uri": "https://localhost:8080/"
        },
        "id": "HZ-9L8jyo4Gv",
        "outputId": "90afed0d-7c14-40c5-abed-f9cad1a7a17c"
      },
      "outputs": [
        {
          "output_type": "stream",
          "name": "stderr",
          "text": [
            "<ipython-input-69-b20c3c8955dd>:23: RuntimeWarning: divide by zero encountered in log\n",
            "  return np.log(0)\n",
            "<ipython-input-82-0ab47374293d>:34: RuntimeWarning: invalid value encountered in double_scalars\n",
            "  if (log_post_t_prop-log_post_t_in)>np.log(rand): #Radio del logaritmo posterior y el inicial, para logaritmos se convierte en una resta y por eso le aplicamos logaritmo al numero aleatorio\n"
          ]
        }
      ],
      "source": [
        "data=np.loadtxt(\"olympic100m_men.txt\",delimiter=\",\").T #Delimitados por coma ya que es archivo separado por comas, .T indica la transpuesta\n",
        "x=data[0][:] #De data, el primer arreglo es de años\n",
        "y=data[1][:] #De data, el segundo arreglo es de los records\n",
        "\n",
        "#Cadena Monte Carlo Markov\n",
        "#Algoritmo de Metropolis\n",
        "\n",
        "#Parametros propuestos\n",
        "t_in=np.array([1,1])\n",
        "sigma=2\n",
        "n_sample=10\n",
        "\n",
        "#Genero las distribuciones gausianas\n",
        "gaussiana_0=np.random.normal(t_in[0],sigma,100)\n",
        "gaussiana_1=np.random.normal(t_in[1],sigma,100)\n",
        "\n",
        "t_prop=np.array([gaussiana_0[random.randint(0,99)],gaussiana_1[random.randint(0,99)]]) #La propuesta será algún punto que pertenezca a la gaussiana generado por los puntos de t\n",
        "#Hay que normalizar los datos, de ser asi no importa mucho si las sigmas son diferentes o no\n",
        "\n",
        "t_aceptadas=np.zeros((n_sample,2)) #t aceptadas\n",
        "t_likes=np.zeros(n_sample) #guardo el likelihood\n",
        "int_w0=[30,40]\n",
        "int_w1=[0,-1]\n",
        "\n",
        "for i in range(n_sample):\n",
        "  log_post_t_in=log_post(x,y,t_in,sigma,int_w0,int_w1) #Calculo el log posterior de t inicial\n",
        "  log_post_t_prop=log_post(x,y,t_prop,sigma,int_w0,int_w1) #Calculo el log posterior de t propuesto\n",
        "  if log_post_t_prop>log_post_t_in: #Comparación de los posterior\n",
        "    t_aceptadas[i,:]=t_prop #Guardo t prop en un arreglo de las propuesta\n",
        "    t_in=t_prop #Remplazo t_in por t_prop\n",
        "    t_likes=log_likelihood(x,y,t_in,sigma)\n",
        "  else:\n",
        "    rand=(random.randint(1,100))/100 #Genero un numero aleatorio entre 0 y 1\n",
        "    if (log_post_t_prop-log_post_t_in)>np.log(rand): #Radio del logaritmo posterior y el inicial, para logaritmos se convierte en una resta y por eso le aplicamos logaritmo al numero aleatorio\n",
        "      t_aceptadas[i,:]=t_prop #Guardo t prop en un arreglo de las propuesta\n",
        "      t_in=t_prop #Remplazo t_in por t_pro\n",
        "      t_likes=log_likelihood(x,y,t_in,sigma)\n",
        "    else:\n",
        "      t_aceptadas[i,:]=t_in #Guardo t in en un arreglo de las propuesta\n",
        "      t_likes=log_likelihood(x,y,t_in,sigma)"
      ]
    }
  ]
}