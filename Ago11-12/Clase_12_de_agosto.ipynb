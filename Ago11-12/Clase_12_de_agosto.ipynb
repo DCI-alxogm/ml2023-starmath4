{
  "nbformat": 4,
  "nbformat_minor": 0,
  "metadata": {
    "colab": {
      "provenance": [],
      "authorship_tag": "ABX9TyNbUbukE/WaypZ7hK5pbpXD",
      "include_colab_link": true
    },
    "kernelspec": {
      "name": "python3",
      "display_name": "Python 3"
    },
    "language_info": {
      "name": "python"
    }
  },
  "cells": [
    {
      "cell_type": "markdown",
      "metadata": {
        "id": "view-in-github",
        "colab_type": "text"
      },
      "source": [
        "<a href=\"https://colab.research.google.com/github/DCI-alxogm/ml2023-starmath4/blob/main/Ago11-12/Clase_12_de_agosto.ipynb\" target=\"_parent\"><img src=\"https://colab.research.google.com/assets/colab-badge.svg\" alt=\"Open In Colab\"/></a>"
      ]
    },
    {
      "cell_type": "code",
      "execution_count": 27,
      "metadata": {
        "colab": {
          "base_uri": "https://localhost:8080/"
        },
        "id": "YmkS842BwkNz",
        "outputId": "b81e4500-0646-45e1-b0ee-8a0cc0de13e2"
      },
      "outputs": [
        {
          "output_type": "stream",
          "name": "stdout",
          "text": [
            "[2, '2', 'dos', 2.0]\n",
            "[2, '2', 'dos', 2.0, 4]\n",
            "[2, '2', 2.0, 4]\n",
            "[2, '2', 2.0]\n",
            "[2, '2', 'tres', 2.0]\n",
            "['a', 1, 'dos', 'tilin']\n",
            "[[2, '2', 'tres', 2.0], ['a', 1, 'dos', 'tilin']]\n",
            " \n",
            "2\n",
            "2\n",
            "tres\n",
            "2.0\n",
            " \n",
            "0 2\n",
            "1 2\n",
            "2 tres\n",
            "3 2.0\n",
            " \n",
            "0 2\n",
            "1 2\n",
            "2 tres\n",
            "3 2.0\n",
            " \n"
          ]
        },
        {
          "output_type": "execute_result",
          "data": {
            "text/plain": [
              "70"
            ]
          },
          "metadata": {},
          "execution_count": 27
        }
      ],
      "source": [
        "lista1=[2,\"2\",\"dos\",2.0] #Se mezclan diferentes tipos de variable.\n",
        "#La adición de listas junta las listas, la multiplicación entre listas esta indefinida, pero existe la multiplicación por un escalar que pertenezca a los naturales.\n",
        "print(lista1)\n",
        "lista1.append(4) #Añade un elemento a la lista\n",
        "print(lista1)\n",
        "lista1.remove(\"dos\") #para eliminar un elemento se puede indicar el elemento o bien usando la posición\n",
        "#el indice empieza en 0\n",
        "print(lista1)\n",
        "del lista1[-1] #Quita el elemento en la posición 1 iniciando de derecha a izquierda, tambien puede ser por intervalo a:b.\n",
        "print(lista1)\n",
        "#Naturalmente es más rápido eliminar elementos según su posición, ya que no se tiene que buscar el elemento en la lista\n",
        "lista1.insert(2,\"tres\")\n",
        "print(lista1)\n",
        "\n",
        "lista2=[\"a\",1,\"dos\",\"tilin\"]\n",
        "print(lista2)\n",
        "lista3=[lista1,lista2] #Lista de listas\n",
        "print(lista3)\n",
        "\n",
        "print(\" \")\n",
        "for i in lista1: #Ver For en Python\n",
        "  print(i)\n",
        "\n",
        "#Otra forma de imprimir todos los elementos del arreglo:\n",
        "print(\" \")\n",
        "for i in range(len(lista1)): #Len es el tamaño del arreglo. Implicitamente i va desde 0 hasta el tamaño de la lista\n",
        "  print(i,lista1[i])\n",
        "\n",
        "print(\" \")\n",
        "for i, item in enumerate(lista1): #Enumerate regresa dos cosas: enumerate(iterable, start=0)\n",
        "  print(i,item)\n",
        "\n",
        "print(\" \")\n",
        "\n",
        "#Una tupla es como una lista pero no se puede modificar\n",
        "\n",
        "import numpy as np #Los arrays de la biblioteca array funcionan como listas!\n",
        "arreglo1=np.array([1,2,3,4]) #La suma y producto entre arreglos si existe, va de elemento a elemento\n",
        "arreglo2=np.array([5,6,7,8])\n",
        "arreglo1/arreglo2\n",
        "np.dot(arreglo1,arreglo2) #Producto punto entre arreglos\n"
      ]
    }
  ]
}