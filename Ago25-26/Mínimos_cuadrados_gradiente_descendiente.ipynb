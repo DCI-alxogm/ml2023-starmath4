{
  "nbformat": 4,
  "nbformat_minor": 0,
  "metadata": {
    "colab": {
      "provenance": [],
      "authorship_tag": "ABX9TyOZ9AMmfHOZnuyB4iexMbXV",
      "include_colab_link": true
    },
    "kernelspec": {
      "name": "python3",
      "display_name": "Python 3"
    },
    "language_info": {
      "name": "python"
    }
  },
  "cells": [
    {
      "cell_type": "markdown",
      "metadata": {
        "id": "view-in-github",
        "colab_type": "text"
      },
      "source": [
        "<a href=\"https://colab.research.google.com/github/DCI-alxogm/ml2023-starmath4/blob/main/Ago25-26/M%C3%ADnimos_cuadrados_gradiente_descendiente.ipynb\" target=\"_parent\"><img src=\"https://colab.research.google.com/assets/colab-badge.svg\" alt=\"Open In Colab\"/></a>"
      ]
    },
    {
      "cell_type": "markdown",
      "source": [
        "No me sale la parte de ir actualizando los w, los coeficientes no convergen a donde deberían, pienso que el error se debe al gradiente en la función con la que se van actualizando los w"
      ],
      "metadata": {
        "id": "tYhdxKOpq44_"
      }
    },
    {
      "cell_type": "code",
      "execution_count": 122,
      "metadata": {
        "id": "hZnUfZB05YFr"
      },
      "outputs": [],
      "source": [
        "import numpy as np\n",
        "import matplotlib.pyplot as plt\n",
        "from numpy import random\n",
        "\n",
        "\n",
        "#Definir vector w y calcular el costo del conjunto entrenado con los valores observados\n",
        "def wn(x,t,n,alp,wi): #Calcular vectores w\n",
        "  w=np.zeros(len(w1))\n",
        "  w=actualizar_wn(wi,x,alp) #Actualizar w\n",
        "  costo=0\n",
        "  for i in range(0,len(x)): #Calcular costo\n",
        "    costo+=(pol(x[i],w)-t[i])**2\n",
        "  return w,costo/(2*len(x)) #Regresar vector w y costo total\n",
        "\n",
        "def actualizar_wn(w,x,alp):\n",
        "  for j in range (len(x)): #Dar n vueltas\n",
        "    for i in range (0,len(w)):\n",
        "      w[i]-=alp*(pol(x[j],w))*(x[j]**i)\n",
        "  return w;\n",
        "\n",
        "def pol(punto,coefs): #Evaluar un polinomio\n",
        "  sum=0\n",
        "  for i in range (0,len(coefs)):\n",
        "    sum+=coefs[i]*(punto**i) #Sumar sobre el polinomio\n",
        "  return sum #Regresar el valor de evaluar en el polinomio\n",
        "\n",
        "def pol_reg(puntos,coefs): #Evaluar el polinomio obtenido con el método de mínimos cuadrados\n",
        "  sum=0\n",
        "  var_dep=np.zeros(len(puntos)) #Arreglo del resultado obtenido por el polinomio\n",
        "  for j in range (0,len(puntos)):\n",
        "    sum=0; #Fijo el valor del predictor (puntos) para evaluar el polinomio\n",
        "    for i in range (0,len(coefs)):\n",
        "      sum+=coefs[i]*(puntos[j])**i #Evaluar el polinomio; con el valor del predictor ya fijado y ciclando sobre los coeficientes por el predictor a la potencia i\n",
        "    var_dep[j]=sum;\n",
        "  return var_dep #regresar el arreglo de los puntos evaluados en el polinomio"
      ]
    },
    {
      "cell_type": "code",
      "source": [
        "data=np.loadtxt(\"olympic100m_men.txt\",delimiter=\",\").T #Delimitados por coma ya que es archivo separado por comas, .T indica la transpuesta\n",
        "\n",
        "x=data[0]\n",
        "y=data[1]\n",
        "\n",
        "w1=np.array([25,-0.001])\n",
        "\n",
        "A1,C1=wn(x,y,1,0.00000000001,w1)\n",
        "print(A1)\n",
        "\n",
        "plt.scatter(x,y)\n",
        "B=np.linspace(1880,2010,1000)\n",
        "plt.plot(B,pol_reg(B,A1))"
      ],
      "metadata": {
        "colab": {
          "base_uri": "https://localhost:8080/",
          "height": 465
        },
        "id": "r_hi3liFNBvj",
        "outputId": "759010fc-ebf7-4619-a848-6f03a708a091"
      },
      "execution_count": 121,
      "outputs": [
        {
          "output_type": "stream",
          "name": "stdout",
          "text": [
            "[ 2.50000000e+01 -1.01214291e-03]\n"
          ]
        },
        {
          "output_type": "execute_result",
          "data": {
            "text/plain": [
              "[<matplotlib.lines.Line2D at 0x7c209d847b50>]"
            ]
          },
          "metadata": {},
          "execution_count": 121
        },
        {
          "output_type": "display_data",
          "data": {
            "text/plain": [
              "<Figure size 640x480 with 1 Axes>"
            ],
            "image/png": "[encoded data removed]"
          },
          "metadata": {}
        }
      ]
    }
  ]
}