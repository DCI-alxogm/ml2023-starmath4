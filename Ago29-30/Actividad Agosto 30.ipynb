{
  "nbformat": 4,
  "nbformat_minor": 0,
  "metadata": {
    "colab": {
      "provenance": [],
      "authorship_tag": "ABX9TyNbBICU9hPGkemJB4qBJ1kB",
      "include_colab_link": true
    },
    "kernelspec": {
      "name": "python3",
      "display_name": "Python 3"
    },
    "language_info": {
      "name": "python"
    }
  },
  "cells": [
    {
      "cell_type": "markdown",
      "metadata": {
        "id": "view-in-github",
        "colab_type": "text"
      },
      "source": [
        "<a href=\"https://colab.research.google.com/github/DCI-alxogm/ml2023-starmath4/blob/main/Ago29-30/Actividad%20Agosto%2030.ipynb\" target=\"_parent\"><img src=\"https://colab.research.google.com/assets/colab-badge.svg\" alt=\"Open In Colab\"/></a>"
      ]
    },
    {
      "cell_type": "code",
      "source": [
        "import numpy as np\n",
        "import random\n",
        "\n",
        "def modelo_polinomio(punto,coefs): #Evaluar el polinomio en un punto\n",
        "  sum=0\n",
        "  for i in range (0,len(coefs)):\n",
        "    sum+=coefs[i]*((punto)**i )\n",
        "  return sum\n",
        "\n",
        "def log_likelihood(x,y,coefs,sig):\n",
        "  sum=0\n",
        "  for i in range(len(x)):\n",
        "    sum+=(((y[i]-modelo_polinomio(x[i],coefs))**2)-(2*sig))\n",
        "  return sum\n",
        "\n",
        "def log_prior(x,prop,int_w0,int_w1): #La propuesta debe caer en ambos prior\n",
        "  if((int_w0[0]<prop[0] and prop[0]<int_w0[1]) and  (int_w1[0]<prop[1] and prop[1]<int_w1[1])): #ambos son positivos\n",
        "    return np.log(1)\n",
        "  else:\n",
        "    return np.log(0)\n",
        "\n",
        "def log_post(x,y,coefs,sig,int_w0,int_w1):\n",
        "  return log_likelihood(x,y,coefs,sig)+log_prior(x,coefs,int_w0,int_w1)"
      ],
      "metadata": {
        "id": "rNrhaxyozDmp"
      },
      "execution_count": 7,
      "outputs": []
    },
    {
      "cell_type": "code",
      "source": [
        "from re import T\n",
        "data=np.loadtxt(\"olympic100m_men.txt\",delimiter=\",\").T #Delimitados por coma ya que es archivo separado por comas, .T indica la transpuesta\n",
        "x=data[0][:] #De data, el primer arreglo es de años\n",
        "y=data[1][:] #De data, el segundo arreglo es de los records\n",
        "\n",
        "#Cadena Monte Carlo Markov\n",
        "#Algoritmo de Metropolis\n",
        "\n",
        "#Parametros propuestos\n",
        "t_in=np.array([35,-0.02])\n",
        "sigma=4\n",
        "n_sample=1000\n",
        "\n",
        "#Genero las distribuciones gausianas\n",
        "\n",
        "\n",
        "#La propuesta será algún punto que pertenezca a la gaussiana generado por los puntos de t\n",
        "#Hay que normalizar los datos, de ser asi no importa mucho si las sigmas son diferentes o no\n",
        "\n",
        "t_aceptadas=np.zeros((n_sample,2)) #t aceptadas\n",
        "t_likes=np.zeros(n_sample) #guardo el likelihood\n",
        "int_w0=[30,40] #intervalo del termino independiente\n",
        "int_w1=[-0.05,0] #intervalo del coeficiente de x\n",
        "\n",
        "#hay que ordenar w0 y w1 de mayor a menor su contenido\n",
        "\n",
        "for i in range(n_sample):\n",
        "  gaussiana_0=np.random.normal(t_in[0],sigma,100)\n",
        "  gaussiana_1=np.random.normal(t_in[1],sigma,100)\n",
        "  t_prop=np.array([gaussiana_0[random.randint(0,99)],gaussiana_1[random.randint(0,99)]])\n",
        "\n",
        "  log_post_t_in=log_post(x,y,t_in,sigma,int_w0,int_w1) #Calculo el log posterior de t inicial\n",
        "  log_post_t_prop=log_post(x,y,t_prop,sigma,int_w0,int_w1) #Calculo el log posterior de t propuesto\n",
        "\n",
        "  if log_post_t_prop>log_post_t_in: #Comparación de los posterior\n",
        "    t_aceptadas[i,:]=t_prop #Guardo t prop en un arreglo de las propuesta\n",
        "    t_in=t_prop #Remplazo t_in por t_prop\n",
        "    t_likes[i]=log_likelihood(x,y,t_in,sigma)\n",
        "  else:\n",
        "    rand=(random.randint(1,100))/100 #Genero un numero aleatorio entre 0 y 1\n",
        "    if (log_post_t_prop-log_post_t_in)>np.log(rand): #Radio del logaritmo posterior y el inicial, para logaritmos se convierte en una resta y por eso le aplicamos logaritmo al numero aleatorio\n",
        "      t_aceptadas[i,:]=t_prop #Guardo t prop en un arreglo de las propuesta\n",
        "      t_in=t_prop #Remplazo t_in por t_pro\n",
        "      t_likes[i]=log_likelihood(x,y,t_in,sigma)\n",
        "    else:\n",
        "      t_aceptadas[i,:]=t_in #Guardo t in en un arreglo de las propuesta\n",
        "      t_likes[i]=log_likelihood(x,y,t_in,sigma)\n",
        "      #El problema esta cuando se tiene -inf -inf\n",
        "\n",
        "print(t_aceptadas[np.argmax(t_likes),:])"
      ],
      "metadata": {
        "colab": {
          "base_uri": "https://localhost:8080/"
        },
        "id": "7zwt1uIVo7Wm",
        "outputId": "6f75e76b-21eb-452a-f436-a439fba6903e"
      },
      "execution_count": 27,
      "outputs": [
        {
          "output_type": "stream",
          "name": "stdout",
          "text": [
            "[34.1626716  -0.04605647]\n"
          ]
        },
        {
          "output_type": "stream",
          "name": "stderr",
          "text": [
            "<ipython-input-7-0026df051e88>:20: RuntimeWarning: divide by zero encountered in log\n",
            "  return np.log(0)\n"
          ]
        }
      ]
    }
  ]
}