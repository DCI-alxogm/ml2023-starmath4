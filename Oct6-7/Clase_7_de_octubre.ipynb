{
  "nbformat": 4,
  "nbformat_minor": 0,
  "metadata": {
    "colab": {
      "provenance": [],
      "authorship_tag": "ABX9TyMvbQeTD67VIt400q57WvCY",
      "include_colab_link": true
    },
    "kernelspec": {
      "name": "python3",
      "display_name": "Python 3"
    },
    "language_info": {
      "name": "python"
    }
  },
  "cells": [
    {
      "cell_type": "markdown",
      "metadata": {
        "id": "view-in-github",
        "colab_type": "text"
      },
      "source": [
        "<a href=\"https://colab.research.google.com/github/DCI-alxogm/ml2023-starmath4/blob/main/Oct6-7/Clase_7_de_octubre.ipynb\" target=\"_parent\"><img src=\"https://colab.research.google.com/assets/colab-badge.svg\" alt=\"Open In Colab\"/></a>"
      ]
    },
    {
      "cell_type": "code",
      "source": [
        "import numpy as np\n",
        "import random\n",
        "\n",
        "def log_likelihood(x, y, parametros):\n",
        "    n = len(y)\n",
        "    w0, w1, sigma = parametros\n",
        "    y_pred = w0 * x + w1  #polinomios de los parametros\n",
        "    dif = y - y_pred\n",
        "    log_likelihood = -0.5 * n * np.log(2 * np.pi * sigma**2) - 0.5 * np.sum((dif / sigma)**2)\n",
        "    return log_likelihood\n",
        "\n",
        "def log_prior(parametros, int_w0, int_w1):\n",
        "    if ((int_w0[0] <= parametros[0] and parametros[0]  <= int_w0[1]) and (int_w1[0] <=parametros[1]  and parametros[1]  <= int_w1[1])):\n",
        "        return 0\n",
        "    else:\n",
        "        return -np.inf\n",
        "\n",
        "def log_post(x, y, parametros, int_w0, int_w1):\n",
        "    return log_likelihood(x, y, parametros) + log_prior(parametros, int_w0, int_w1)"
      ],
      "metadata": {
        "id": "rNrhaxyozDmp"
      },
      "execution_count": 285,
      "outputs": []
    },
    {
      "cell_type": "code",
      "source": [
        "from re import T\n",
        "data=np.loadtxt(\"olympic100m_men.txt\",delimiter=\",\").T #Delimitados por coma ya que es archivo separado por comas, .T indica la transpuesta\n",
        "data = np.loadtxt(\"olympic100m_men.txt\", delimiter=\",\").T\n",
        "x = data[0][:]\n",
        "y = data[1][:]\n",
        "\n",
        "x = (x - 1896) / 4 #normalizo datos\n",
        "# propongo parametros\n",
        "parametros_iniciales = np.array([10.3, -0.3, 2.5])  #propongo los pesos y un sigma\n",
        "sigma_proposal = np.array([0.1, 0.01, 1.0])  #desviacion\n",
        "\n",
        "# intervalos para el prior\n",
        "int_w0 = [10.2, 10.5]\n",
        "int_w1 = [-0.4, -0.2]\n",
        "\n",
        "n_cadenas = 4  # numero de cadenas\n",
        "n_sample = 10000  # muestras por cadena\n",
        "\n",
        "# arreglo para almacenar las cadenas\n",
        "cadenas = []\n",
        "prop=np.zeros((n_sample,3))\n",
        "\n",
        "for i in range(n_cadenas): #genero 4 cadenas\n",
        "    #inicio los parametros aceptados\n",
        "    parametros_aceptados = np.zeros((n_sample, 3))\n",
        "    parametros_aceptados[0] = parametros_iniciales\n",
        "    log_posterior_actual = log_post(x, y, parametros_iniciales, int_w0, int_w1)\n",
        "    for j in range(1, n_sample):\n",
        "        propuestas = np.random.normal(parametros_aceptados[j-1], sigma_proposal)\n",
        "        prop[j]=propuestas #guardo todas mis propuestas\n",
        "        log_posterior_propuesto = log_post(x, y, propuestas, int_w0, int_w1)\n",
        "\n",
        "        if log_posterior_propuesto > log_posterior_actual:\n",
        "            parametros_aceptados[j] = propuestas\n",
        "            log_posterior_actual = log_posterior_propuesto\n",
        "        else:\n",
        "          if np.log(random.uniform(0, 1)) < (log_posterior_propuesto - log_posterior_actual):\n",
        "            parametros_aceptados[j] = propuestas\n",
        "            log_posterior_actual = log_posterior_propuesto\n",
        "          else:\n",
        "            parametros_aceptados[j] = parametros_aceptados[j-1]\n",
        "\n",
        "    #voy creando una lista de cadenas\n",
        "    cadenas.append(parametros_aceptados)\n",
        "print(cadenas) #imprimo las 4 cadenas"
      ],
      "metadata": {
        "colab": {
          "base_uri": "https://localhost:8080/"
        },
        "id": "7zwt1uIVo7Wm",
        "outputId": "1cf266ac-a625-4468-ec2e-dd3de3b10f7d"
      },
      "execution_count": 290,
      "outputs": [
        {
          "output_type": "stream",
          "name": "stdout",
          "text": [
            "[array([[ 10.3       ,  -0.3       ,   2.5       ],\n",
            "       [ 10.24355438,  -0.28631238,   2.61531833],\n",
            "       [ 10.24355438,  -0.28631238,   2.61531833],\n",
            "       ...,\n",
            "       [ 10.25048066,  -0.27997457, 150.83842163],\n",
            "       [ 10.25048066,  -0.27997457, 150.83842163],\n",
            "       [ 10.3438544 ,  -0.28561566, 150.30496351]]), array([[ 10.3       ,  -0.3       ,   2.5       ],\n",
            "       [ 10.22870371,  -0.2855914 ,   3.59414455],\n",
            "       [ 10.22870371,  -0.2855914 ,   3.59414455],\n",
            "       ...,\n",
            "       [ 10.36524445,  -0.37895444, 175.18505586],\n",
            "       [ 10.38443808,  -0.36039326, 174.99610363],\n",
            "       [ 10.33808348,  -0.36715856, 176.00847235]]), array([[ 10.3       ,  -0.3       ,   2.5       ],\n",
            "       [ 10.26752904,  -0.28301839,   2.56398676],\n",
            "       [ 10.26752904,  -0.28301839,   2.56398676],\n",
            "       ...,\n",
            "       [ 10.38343936,  -0.3244901 , 207.11703953],\n",
            "       [ 10.43172937,  -0.32269318, 209.02653722],\n",
            "       [ 10.43172937,  -0.32269318, 209.02653722]]), array([[ 10.3       ,  -0.3       ,   2.5       ],\n",
            "       [ 10.3       ,  -0.3       ,   2.5       ],\n",
            "       [ 10.22117988,  -0.30303253,   2.58273371],\n",
            "       ...,\n",
            "       [ 10.33400089,  -0.27015561, 147.99649098],\n",
            "       [ 10.30074046,  -0.27112404, 147.79138253],\n",
            "       [ 10.31787023,  -0.28746711, 148.49356522]])]\n"
          ]
        }
      ]
    },
    {
      "cell_type": "code",
      "source": [
        "def mean(cadena,columna):\n",
        "  aux=np.zeros(len(cadena))\n",
        "  for i in range(0,len(cadena)):\n",
        "    aux[i]=cadena[i][1]\n",
        "    mean=np.mean(aux)\n",
        "  return mean\n",
        "#voy a poner esta función para calcular la media de las medias mas adelante"
      ],
      "metadata": {
        "id": "2qTxCV1gafyR"
      },
      "execution_count": 273,
      "outputs": []
    },
    {
      "cell_type": "code",
      "source": [
        "#diagnóstico gelman-rubin\n",
        "\n",
        "#nota:la media de la distribución debería ser el valor alrededor del cual se genero la distribución\n",
        "\n",
        "def s12(parametro,cadena,columna): #varianza por cadena\n",
        "  sum=0\n",
        "  media=mean(cadena,columna)\n",
        "  for i in range(0,len(cadena)):\n",
        "    sum+=(parametro[i][columna]-cadena[i][columna])**2\n",
        "  return sum/len(cadena)\n",
        "\n",
        "def s2(parametro,cadenas,n_cadenas,columna): #varianza ya total\n",
        "  sum=0\n",
        "  for i in range(0,n_cadenas):\n",
        "    sum+=s12(parametro,cadenas[i],columna)\n",
        "  return sum/(n_cadenas)\n",
        "\n",
        "def bn(parametro,cadenas,n_cadenas,columna):\n",
        "  sum=0\n",
        "  for i in range (n_cadenas):\n",
        "    sum=0\n",
        "    sum+=(parametro[i][columna]-mean(cadenas[i],columna))\n",
        "  return sum/(n_cadenas+1)\n",
        "\n",
        "def sigma2(parametro,cadenas,n_cadenas,columna):\n",
        "  sigma=(len(cadenas[0])-1)/len(cadenas[0])*s2(parametro,cadenas,n_cadenas,columna)+bn(parametro,cadenas,n_cadenas,columna)\n",
        "  return sigma\n",
        "\n",
        "def r(parametro,cadenas,n_cadenas,columna):\n",
        "  return np.sqrt(sigma2(parametro,cadenas,n_cadenas,columna)/s2(parametro,cadenas,n_cadenas,columna))\n",
        "\n",
        "print(\"R=\",r(prop,cadenas,n_cadenas,1))\n",
        "\n",
        "#R tiene que ser menor que 1 para que converja"
      ],
      "metadata": {
        "colab": {
          "base_uri": "https://localhost:8080/"
        },
        "id": "mcVsvGnnMq6x",
        "outputId": "af8ed047-46b9-4074-d915-27149eb25f97"
      },
      "execution_count": 291,
      "outputs": [
        {
          "output_type": "stream",
          "name": "stdout",
          "text": [
            "R= 0.7398997275373762\n"
          ]
        }
      ]
    }
  ]
}